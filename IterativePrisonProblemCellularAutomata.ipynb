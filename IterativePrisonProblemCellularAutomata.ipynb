{
  "cells": [
    {
      "cell_type": "code",
      "execution_count": 1,
      "metadata": {
        "id": "hWsEQtHV8wtA"
      },
      "outputs": [],
      "source": [
        "import matplotlib.pyplot as plt\n",
        "import numpy as np\n",
        "import networkx as nx"
      ]
    },
    {
      "cell_type": "code",
      "execution_count": 2,
      "metadata": {
        "id": "N2IZCGIZH1lH"
      },
      "outputs": [],
      "source": [
        "from collections import defaultdict, deque\n",
        "from functools import partial\n",
        "\n",
        "class Prisoner():\n",
        "  def __init__(self, strategy):\n",
        "    self.strategy = strategy\n",
        "    self.rewards = 0\n",
        "    self.next_strategy = strategy\n",
        "    # Memory of last 3 turns\n",
        "    self.memory = defaultdict(partial(deque, maxlen=3))\n",
        "    self.last_action = defaultdict(lambda: None)\n",
        "\n",
        "  def calculate_reward(self, game_rules, neighbour_prisoner):\n",
        "      neighbour_prisoner_decision = neighbour_prisoner.strategy.decide(neighbour_prisoner.memory[self], neighbour_prisoner.last_action[self])\n",
        "      decision = self.strategy.decide(self.memory[neighbour_prisoner], self.last_action[neighbour_prisoner])\n",
        "      reward, neighbour_prisoner_reward = game_rules.get_reward(decision, neighbour_prisoner_decision)\n",
        "      self.rewards += reward\n",
        "      neighbour_prisoner.rewards += neighbour_prisoner_reward\n",
        "      self.memory[neighbour_prisoner].append(neighbour_prisoner_decision)\n",
        "      self.last_action[neighbour_prisoner] = decision\n",
        "      neighbour_prisoner.memory[self].append(decision)\n",
        "      neighbour_prisoner.last_action[self] = neighbour_prisoner_decision\n",
        "\n",
        "  \n",
        "  def reset(self):\n",
        "    self.rewards = 0\n",
        "    self.strategy = self.next_strategy"
      ]
    },
    {
      "cell_type": "code",
      "execution_count": 3,
      "metadata": {
        "id": "40Qz2nQsF27I"
      },
      "outputs": [],
      "source": [
        "from enum import Enum\n",
        "class Action(Enum):\n",
        "  COOPERATE = 1\n",
        "  DEFECT = 2"
      ]
    },
    {
      "cell_type": "code",
      "execution_count": 4,
      "metadata": {
        "id": "PG_xIZJRII0v"
      },
      "outputs": [],
      "source": [
        "class SimpleGameRules():\n",
        "  def __init__(self, R, S, T, P):\n",
        "    self.R = R # Reward\n",
        "    self.S = S # Sucker's payoff\n",
        "    self.T = T # Temptation\n",
        "    self.P = P # Punishment\n",
        "    if R <= (S + T)/2:\n",
        "      raise ValueError('R must be bigger than (S + T)/2')\n",
        "  \n",
        "  def get_reward(self, action1, action2):\n",
        "    if action1 is Action.COOPERATE and action2 is Action.COOPERATE:\n",
        "      return self.R, self.R\n",
        "    elif action1 is Action.COOPERATE and action2 is Action.DEFECT:\n",
        "      return self.S, self.T\n",
        "    elif action1 is Action.DEFECT and action2 is Action.COOPERATE:\n",
        "      return self.T, self.S\n",
        "    elif action1 is Action.DEFECT and action2 is Action.DEFECT:\n",
        "      return self.P, self.P"
      ]
    },
    {
      "cell_type": "code",
      "execution_count": 5,
      "metadata": {
        "id": "9SbETHcc_RvM"
      },
      "outputs": [],
      "source": [
        "class CooperateStrategy():\n",
        "  def __init__(self):\n",
        "    self.color = \"green\"\n",
        "\n",
        "  def decide(self, _memory, _last_action_reward):\n",
        "    return Action.COOPERATE\n",
        "  \n",
        "  def __str__(self):\n",
        "    return \"cooperate\""
      ]
    },
    {
      "cell_type": "code",
      "execution_count": 6,
      "metadata": {
        "id": "NTBmW1UdG3oW"
      },
      "outputs": [],
      "source": [
        "class DefectStrategy():\n",
        "  def __init__(self):\n",
        "    self.color = \"red\"\n",
        "\n",
        "  def decide(self, _memory, _last_action_reward):\n",
        "    return Action.DEFECT\n",
        "  \n",
        "  def __str__(self):\n",
        "    return \"defect\""
      ]
    },
    {
      "cell_type": "code",
      "execution_count": 7,
      "metadata": {
        "id": "ciOuDqxcFdFi"
      },
      "outputs": [],
      "source": [
        "class TitForTatStrategy():\n",
        "  def __init__(self):\n",
        "    self.color = \"yellow\"\n",
        "\n",
        "  def decide(self, memory, _last_action_reward):\n",
        "    if len(memory) == 0:\n",
        "      return Action.COOPERATE\n",
        "    else:\n",
        "      return memory[-1]\n",
        "  \n",
        "  def __str__(self):\n",
        "    return \"tit_for_tat\""
      ]
    },
    {
      "cell_type": "code",
      "execution_count": 8,
      "metadata": {
        "id": "_Ra4x3MjqXm5"
      },
      "outputs": [],
      "source": [
        "class PavlovStrategy():\n",
        "  # win-stay, lose-switch\n",
        "  def __init__(self):\n",
        "    self.color = \"blue\"\n",
        "    self.default_action = Action.COOPERATE\n",
        "  \n",
        "  def decide(self, memory, last_action):\n",
        "    if last_action is not None:\n",
        "      if last_action == memory[-1]:\n",
        "        return Action.COOPERATE\n",
        "      else:\n",
        "        return Action.DEFECT\n",
        "    else:\n",
        "      return Action.COOPERATE\n",
        "  \n",
        "  def __str__(self):\n",
        "    return \"pavlov\""
      ]
    },
    {
      "cell_type": "code",
      "execution_count": 9,
      "metadata": {
        "id": "burZsh-zHXOs"
      },
      "outputs": [],
      "source": [
        "class RandomStrategy():\n",
        "  def __init__(self):\n",
        "    self.color = \"pink\"\n",
        "\n",
        "  def decide(self, _memory, _last_action_reward):\n",
        "    return random.choice([Action.COOPERATE, Action.DEFECT])\n",
        "  \n",
        "  def __str__(self):\n",
        "    return \"random\""
      ]
    },
    {
      "cell_type": "code",
      "execution_count": 34,
      "metadata": {
        "id": "SVDhPYcy_ElL"
      },
      "outputs": [],
      "source": [
        "import random\n",
        "import numpy as np\n",
        "\n",
        "class World():\n",
        "  def __init__(self, game_rules, G, iterations=10):\n",
        "    self.game_rules = game_rules\n",
        "    self.iterations = iterations\n",
        "    self.G = G\n",
        "    self.strategy_counts = defaultdict(lambda: [0])\n",
        "    self.update_strategy_counts()\n",
        "    self.pos = None \n",
        "\n",
        "  def start(self, simulations):\n",
        "    for _ in range(simulations):\n",
        "      self.play()\n",
        "\n",
        "  def play(self):\n",
        "    self.reset()\n",
        "    for i in range(self.iterations):\n",
        "      self.simulate_game()\n",
        "    self.normalise_neighbours_rewards_by_degree()\n",
        "    self.swap_for_best_strategies()\n",
        "    self.update_strategy_counts()\n",
        "\n",
        "  def get_prisoner_neighbours(self, prisoner):\n",
        "    return self.G.neighbors(prisoner)\n",
        "\n",
        "  def reset(self):\n",
        "    for prisoner in self.G.nodes():\n",
        "      prisoner.reset()\n",
        "    \n",
        "    for k in self.strategy_counts.keys():\n",
        "      self.strategy_counts[k].append(0)\n",
        "  \n",
        "  def update_strategy_counts(self):\n",
        "    for prisoner in self.G.nodes():\n",
        "      strategy = prisoner.strategy\n",
        "      self.strategy_counts[strategy][-1] += 1\n",
        "  \n",
        "  def simulate_game(self):\n",
        "    for prisoner, neighbour_prisoner in self.G.edges():\n",
        "      prisoner.calculate_reward(self.game_rules, neighbour_prisoner)\n",
        "\n",
        "  def swap_for_best_strategies(self):\n",
        "    for prisoner in self.G.nodes():\n",
        "      neighbour_prisoners = self.get_prisoner_neighbours(prisoner)\n",
        "      best_reward = prisoner.rewards\n",
        "      best_strategies = [prisoner.strategy]\n",
        "      for neighbour_prisoner in neighbour_prisoners:\n",
        "        if neighbour_prisoner.rewards > best_reward:\n",
        "          best_reward = neighbour_prisoner.rewards\n",
        "          best_strategies = [neighbour_prisoner.strategy]\n",
        "        elif neighbour_prisoner.rewards == best_reward:\n",
        "          best_strategies.append(neighbour_prisoner.strategy)\n",
        "\n",
        "      prisoner.next_strategy = random.choice(best_strategies)\n",
        "  \n",
        "  def normalise_neighbours_rewards_by_degree(self):\n",
        "    max_degree = max(self.G.degree, key=lambda x: x[1])[1]\n",
        "    for prisoner in self.G:\n",
        "      degree = self.G.degree[prisoner]\n",
        "      prisoner.rewards = round(max_degree / degree * prisoner.rewards)\n",
        "\n",
        "\n",
        "  def plot(self, strategies, iteration_nr):\n",
        "    plt.figure()\n",
        "    ax = plt.subplot(111)\n",
        "    color_map = []\n",
        "    strategies_nodes = {}\n",
        "    for strategy in strategies:\n",
        "      strategies_nodes[strategy] = []\n",
        "\n",
        "    for prisoner in self.G:\n",
        "      strategies_nodes[prisoner.strategy].append(prisoner)\n",
        "    pos = nx.get_node_attributes(self.G, 'pos')\n",
        "    for strategy, nodes in strategies_nodes.items():\n",
        "      nx.draw_networkx_nodes(self.G, pos=pos, nodelist=nodes,\n",
        "                       node_color=strategy.color, label=str(strategy),\n",
        "                       node_size=2)\n",
        "    plt.title(f\"Game: {iteration_nr}\")\n",
        "    filename = f\"plots/{i}.png\"\n",
        "    box = ax.get_position()\n",
        "\n",
        "    ax.set_position([box.x0, box.y0, box.width * 0.8, box.height])\n",
        "    \n",
        "    ax.legend(loc='center left', bbox_to_anchor=(1, 0.5))\n",
        "    plt.savefig(filename)\n",
        "    plt.close()\n",
        "    return filename\n",
        "\n",
        "  def plot_nx(self, strategies, iteration_nr):\n",
        "    if self.pos is None:\n",
        "      self.pos = nx.spring_layout(self.G)\n",
        "    plt.figure()\n",
        "    ax = plt.subplot(111)\n",
        "    color_map = []\n",
        "    strategies_nodes = {}\n",
        "    for strategy in strategies:\n",
        "      strategies_nodes[strategy] = []\n",
        "\n",
        "    for prisoner in self.G:\n",
        "      strategies_nodes[prisoner.strategy].append(prisoner)\n",
        "    for strategy, nodes in strategies_nodes.items():\n",
        "      d = dict(G.degree(nodes))\n",
        "      nx.draw_networkx_nodes(self.G, pos=self.pos, nodelist=nodes,\n",
        "                       node_color=strategy.color, label=str(strategy),\n",
        "                       node_size=[v * 2 for v in d.values()])\n",
        "    plt.title(f\"Game: {iteration_nr}\")\n",
        "    filename = f\"plots/{iteration_nr}.png\"\n",
        "    box = ax.get_position()\n",
        "\n",
        "    ax.set_position([box.x0, box.y0, box.width * 0.8, box.height])\n",
        "    \n",
        "    lgnd = ax.legend(loc='center left', bbox_to_anchor=(1, 0.5))\n",
        "    for handle in lgnd.legendHandles:\n",
        "      handle.set_sizes([19.0])\n",
        "    nx.draw_networkx_edges(self.G, pos=self.pos)\n",
        "    plt.savefig(filename)\n",
        "    plt.close()\n",
        "    return filename\n",
        "\n",
        "\n",
        "  def save_node_stats(self):\n",
        "    output_file = open(\"graph_data.csv\", \"w\")\n",
        "    simulation_length = 1E8\n",
        "\n",
        "    output_file.write(\"step\")\n",
        "    for k in self.strategy_counts.keys():\n",
        "      output_file.write(f\";{k}\")\n",
        "      simulation_length = min(simulation_length, len(self.strategy_counts[k]))\n",
        "    output_file.write(\"\\n\")\n",
        "\n",
        "    for i in range(simulation_length):\n",
        "      output_file.write(f\"{i}\")\n",
        "      for k in self.strategy_counts.keys():\n",
        "        output_file.write(f\";{self.strategy_counts[k][i]}\")\n",
        "      output_file.write(\"\\n\")\n",
        "\n",
        "    output_file.close()\n",
        "\n",
        "  "
      ]
    },
    {
      "cell_type": "code",
      "execution_count": 11,
      "metadata": {
        "id": "mbAGDOFj7wVn"
      },
      "outputs": [],
      "source": [
        "!mkdir plots\n",
        "!mkdir gifs"
      ]
    },
    {
      "cell_type": "code",
      "execution_count": 12,
      "metadata": {
        "id": "jzJlIw97J_10"
      },
      "outputs": [],
      "source": [
        "game_rules = SimpleGameRules(R=3, S=0, T=5, P=1)"
      ]
    },
    {
      "cell_type": "markdown",
      "metadata": {
        "id": "ZcDNBZdBWnj6"
      },
      "source": [
        "1 Graf regularny"
      ]
    },
    {
      "cell_type": "code",
      "execution_count": null,
      "metadata": {
        "id": "ufuOZOpXrLZ7"
      },
      "outputs": [],
      "source": [
        "#Building the Grid and the nodes\n",
        "resolution = 1\n",
        "length = 100\n",
        "cooperate_strategy = CooperateStrategy()\n",
        "defect_strategy = DefectStrategy()\n",
        "tit_for_tat_strategy = TitForTatStrategy()\n",
        "pavlov_strategy = PavlovStrategy()\n",
        "random_strategy = RandomStrategy()\n",
        "strategies = [cooperate_strategy, defect_strategy, tit_for_tat_strategy, \n",
        "              pavlov_strategy, random_strategy]\n",
        "\n",
        "xGrid = np.arange(0, length+1, resolution)\n",
        "yGrid = np.arange(0, length+1, resolution)\n",
        "G = nx.Graph()\n",
        "meshNumber = np.empty((length, length), dtype=object)\n",
        "# tworzenie wierzcholkow\n",
        "for i in range(length):\n",
        "    for j in range(length):\n",
        "      prisoner = Prisoner(random.choice(strategies))\n",
        "      G.add_node(prisoner, pos=(\n",
        "          xGrid[j], yGrid[i]))\n",
        "      meshNumber[j,i] = prisoner\n",
        "\n",
        "\n",
        "## neumann neighberhood edges\n",
        "for i in range(length):\n",
        "    for j in range(length):\n",
        "        G.add_edge(meshNumber[j, i], meshNumber[j, (i + 1) % length])\n",
        "        G.add_edge(meshNumber[j, i], meshNumber[j, (i - 1) % length])\n",
        "        G.add_edge(meshNumber[j, i], meshNumber[(j + 1) % length, i])\n",
        "        G.add_edge(meshNumber[j, i], meshNumber[(j - 1) % length, i])\n",
        "\n",
        "G = G.to_undirected()\n",
        "\n",
        "# mat[10, 10] = Prisoner(defect_strategy)"
      ]
    },
    {
      "cell_type": "code",
      "execution_count": null,
      "metadata": {
        "id": "Sl06OKWksUd5"
      },
      "outputs": [],
      "source": [
        "!rm -rf graph_data.csv"
      ]
    },
    {
      "cell_type": "code",
      "execution_count": null,
      "metadata": {
        "id": "BQFrGHOfrSB3"
      },
      "outputs": [],
      "source": [
        "import imageio\n",
        "import os\n",
        "\n",
        "filenames = []\n",
        "world = World(game_rules, G)\n",
        "filenames.append(world.plot(strategies, 0))\n",
        "for i in range(200):\n",
        "  world.play()\n",
        "  filenames.append(world.plot(strategies, i + 1))\n",
        "world.save_node_stats()\n",
        "\n",
        "with imageio.get_writer(f\"gifs/noumann.gif\", mode='I') as writer:\n",
        "  for filename in filenames:\n",
        "    image = imageio.imread(filename)\n",
        "    writer.append_data(image)\n",
        "  # for filename in set(filenames):\n",
        "  #   os.remove(filename)\n"
      ]
    },
    {
      "cell_type": "code",
      "execution_count": null,
      "metadata": {
        "colab": {
          "base_uri": "https://localhost:8080/",
          "height": 312
        },
        "id": "ZCkUJFhBxW1j",
        "outputId": "6b9f87ed-74ac-45d8-990e-68256ddb8fe3"
      },
      "outputs": [
        {
          "output_type": "execute_result",
          "data": {
            "text/plain": [
              "<matplotlib.legend.Legend at 0x7fb03c44e850>"
            ]
          },
          "metadata": {},
          "execution_count": 16
        },
        {
          "output_type": "display_data",
          "data": {
            "image/png": "[encoded data removed]",
            "text/plain": [
              "<Figure size 432x288 with 1 Axes>"
            ]
          },
          "metadata": {
            "needs_background": "light"
          }
        }
      ],
      "source": [
        "import matplotlib.pyplot as plt\n",
        "import pandas as pd\n",
        "\n",
        "df = pd.read_csv(\"graph_data.csv\", sep=\";\", index_col=0)\n",
        "fig, ax = plt.subplots()\n",
        "\n",
        "for strategy in df.columns:\n",
        "  column = df[strategy]\n",
        "  x = range(len(column))\n",
        "  ax.plot(x, column, label=strategy)\n",
        "\n",
        "ax.set_xlabel(\"timestep\")\n",
        "ax.set_ylabel(\"count\")\n",
        "ax.set_xlim(left=0)\n",
        "ax.set_title('Count of strategies in graph by simulation number')\n",
        "ax.legend(loc=\"best\")"
      ]
    },
    {
      "cell_type": "markdown",
      "metadata": {
        "id": "q0S-MddlWqy3"
      },
      "source": [
        "2. Barabasi graf scale free"
      ]
    },
    {
      "cell_type": "code",
      "execution_count": null,
      "metadata": {
        "id": "k6EJ3mgiWp8k"
      },
      "outputs": [],
      "source": [
        "cooperate_strategy = CooperateStrategy()\n",
        "defect_strategy = DefectStrategy()\n",
        "tit_for_tat_strategy = TitForTatStrategy()\n",
        "pavlov_strategy = PavlovStrategy()\n",
        "random_strategy = RandomStrategy()\n",
        "strategies = [cooperate_strategy, defect_strategy, tit_for_tat_strategy, \n",
        "              pavlov_strategy, random_strategy]\n",
        "\n",
        "G = nx.barabasi_albert_graph(100, 3)\n",
        "G = nx.relabel_nodes(G, lambda x: Prisoner(random.choice(strategies)))\n"
      ]
    },
    {
      "cell_type": "code",
      "execution_count": null,
      "metadata": {
        "id": "ZHqmOjMjWmtg"
      },
      "outputs": [],
      "source": [
        "import imageio\n",
        "import os\n",
        "\n",
        "filenames = []\n",
        "world = World(game_rules, G)\n",
        "filenames.append(world.plot_nx(strategies, 0))\n",
        "for i in range(200):\n",
        "  world.play()\n",
        "  filenames.append(world.plot_nx(strategies, i + 1))\n",
        "world.save_node_stats()\n",
        "\n",
        "with imageio.get_writer(f\"gifs/barabasi.gif\", mode='I') as writer:\n",
        "  for filename in filenames:\n",
        "    image = imageio.imread(filename)\n",
        "    writer.append_data(image)\n",
        "  \"\"\"for filename in set(filenames):\n",
        "    os.remove(filename)\n",
        "\"\"\""
      ]
    },
    {
      "cell_type": "code",
      "source": [
        "import matplotlib.pyplot as plt\n",
        "import pandas as pd\n",
        "\n",
        "df = pd.read_csv(\"graph_data.csv\", sep=\";\", index_col=0)\n",
        "fig, ax = plt.subplots()\n",
        "\n",
        "for strategy in df.columns:\n",
        "  column = df[strategy]\n",
        "  x = range(len(column))\n",
        "  ax.plot(x, column, label=strategy)\n",
        "\n",
        "ax.set_xlabel(\"timestep\")\n",
        "ax.set_ylabel(\"count\")\n",
        "ax.set_xlim(left=0)\n",
        "ax.legend(loc=\"best\")"
      ],
      "metadata": {
        "colab": {
          "base_uri": "https://localhost:8080/",
          "height": 296
        },
        "id": "J1OqG1MOmCl1",
        "outputId": "60ba2870-c62d-49c3-c70a-29cd75781032"
      },
      "execution_count": null,
      "outputs": [
        {
          "output_type": "execute_result",
          "data": {
            "text/plain": [
              "<matplotlib.legend.Legend at 0x7fb040529cd0>"
            ]
          },
          "metadata": {},
          "execution_count": 25
        },
        {
          "output_type": "display_data",
          "data": {
            "image/png": "[encoded data removed]",
            "text/plain": [
              "<Figure size 432x288 with 1 Axes>"
            ]
          },
          "metadata": {
            "needs_background": "light"
          }
        }
      ]
    },
    {
      "cell_type": "markdown",
      "source": [
        "3. Karate club graph"
      ],
      "metadata": {
        "id": "BamCumNonRp6"
      }
    },
    {
      "cell_type": "code",
      "source": [
        "cooperate_strategy = CooperateStrategy()\n",
        "defect_strategy = DefectStrategy()\n",
        "tit_for_tat_strategy = TitForTatStrategy()\n",
        "pavlov_strategy = PavlovStrategy()\n",
        "random_strategy = RandomStrategy()\n",
        "strategies = [cooperate_strategy, defect_strategy, tit_for_tat_strategy, \n",
        "              pavlov_strategy, random_strategy]\n",
        "\n",
        "G = nx.karate_club_graph()\n",
        "G = nx.relabel_nodes(G, lambda x: Prisoner(random.choice(strategies)))\n"
      ],
      "metadata": {
        "id": "MzHWmHDsnUyR"
      },
      "execution_count": null,
      "outputs": []
    },
    {
      "cell_type": "code",
      "source": [
        "import imageio\n",
        "import os\n",
        "\n",
        "filenames = []\n",
        "world = World(game_rules, G)\n",
        "filenames.append(world.plot_nx(strategies, 0))\n",
        "for i in range(50):\n",
        "  world.play()\n",
        "  filenames.append(world.plot_nx(strategies, i + 1))\n",
        "world.save_node_stats()\n",
        "\n",
        "with imageio.get_writer(f\"gifs/karate.gif\", mode='I') as writer:\n",
        "  for filename in filenames:\n",
        "    image = imageio.imread(filename)\n",
        "    writer.append_data(image)\n",
        "  \"\"\"for filename in set(filenames):\n",
        "    os.remove(filename)\"\"\"\n"
      ],
      "metadata": {
        "id": "ViDOpJtHngtJ"
      },
      "execution_count": null,
      "outputs": []
    },
    {
      "cell_type": "code",
      "source": [
        "import matplotlib.pyplot as plt\n",
        "import pandas as pd\n",
        "\n",
        "df = pd.read_csv(\"graph_data.csv\", sep=\";\", index_col=0)\n",
        "fig, ax = plt.subplots()\n",
        "\n",
        "for strategy in df.columns:\n",
        "  column = df[strategy]\n",
        "  x = range(len(column))\n",
        "  ax.plot(x, column, label=strategy)\n",
        "\n",
        "ax.set_xlabel(\"timestep\")\n",
        "ax.set_ylabel(\"count\")\n",
        "ax.set_xlim(left=0)\n",
        "ax.legend(loc=\"best\")"
      ],
      "metadata": {
        "colab": {
          "base_uri": "https://localhost:8080/",
          "height": 296
        },
        "id": "mlYxs_KbnjIG",
        "outputId": "a86f1aa9-e4df-4540-e402-fe37ac7aba0f"
      },
      "execution_count": null,
      "outputs": [
        {
          "output_type": "execute_result",
          "data": {
            "text/plain": [
              "<matplotlib.legend.Legend at 0x7fb03db1b510>"
            ]
          },
          "metadata": {},
          "execution_count": 34
        },
        {
          "output_type": "display_data",
          "data": {
            "image/png": "[encoded data removed]",
            "text/plain": [
              "<Figure size 432x288 with 1 Axes>"
            ]
          },
          "metadata": {
            "needs_background": "light"
          }
        }
      ]
    },
    {
      "cell_type": "markdown",
      "source": [
        "4. Atlas"
      ],
      "metadata": {
        "id": "_PZajlUQqJZS"
      }
    },
    {
      "cell_type": "code",
      "source": [
        "GraphMatcher = nx.isomorphism.vf2userfunc.GraphMatcher\n",
        "\n",
        "def atlas6():\n",
        "    \"\"\"Return the atlas of all connected graphs with at most 6 nodes\"\"\"\n",
        "\n",
        "    Atlas = nx.graph_atlas_g()[3:209]  # 0, 1, 2 => no edges. 208 is last 6 node graph\n",
        "    U = nx.Graph()  # graph for union of all graphs in atlas\n",
        "    for G in Atlas:\n",
        "        # check if connected\n",
        "        if nx.number_connected_components(G) == 1:\n",
        "            # check if isomorphic to a previous graph\n",
        "            if not GraphMatcher(U, G).subgraph_is_isomorphic():\n",
        "                U = nx.disjoint_union(U, G)\n",
        "    return U"
      ],
      "metadata": {
        "id": "uPctyYsWqYNk"
      },
      "execution_count": null,
      "outputs": []
    },
    {
      "cell_type": "code",
      "source": [
        "cooperate_strategy = CooperateStrategy()\n",
        "defect_strategy = DefectStrategy()\n",
        "tit_for_tat_strategy = TitForTatStrategy()\n",
        "pavlov_strategy = PavlovStrategy()\n",
        "random_strategy = RandomStrategy()\n",
        "strategies = [cooperate_strategy, defect_strategy, tit_for_tat_strategy, \n",
        "              pavlov_strategy, random_strategy]\n",
        "\n",
        "G = atlas6()\n",
        "G = nx.relabel_nodes(G, lambda x: Prisoner(random.choice(strategies)))"
      ],
      "metadata": {
        "id": "DHaNtKgsqKhc"
      },
      "execution_count": null,
      "outputs": []
    },
    {
      "cell_type": "code",
      "source": [
        "import imageio\n",
        "import os\n",
        "\n",
        "filenames = []\n",
        "world = World(game_rules, G)\n",
        "filenames.append(world.plot_nx(strategies, 0))\n",
        "for i in range(20):\n",
        "  world.play()\n",
        "  filenames.append(world.plot_nx(strategies, i + 1))\n",
        "world.save_node_stats()\n",
        "\n",
        "with imageio.get_writer(f\"gifs/atlas.gif\", mode='I') as writer:\n",
        "  for filename in filenames:\n",
        "    image = imageio.imread(filename)\n",
        "    writer.append_data(image)\n",
        "\"\"\"  for filename in set(filenames):\n",
        "    os.remove(filename)\"\"\""
      ],
      "metadata": {
        "id": "v8gCrDhQqQeW",
        "colab": {
          "base_uri": "https://localhost:8080/",
          "height": 35
        },
        "outputId": "412553b8-56d1-48fd-9cc4-296a23e19e7f"
      },
      "execution_count": null,
      "outputs": [
        {
          "output_type": "execute_result",
          "data": {
            "application/vnd.google.colaboratory.intrinsic+json": {
              "type": "string"
            },
            "text/plain": [
              "'  for filename in set(filenames):\\n    os.remove(filename)'"
            ]
          },
          "metadata": {},
          "execution_count": 41
        }
      ]
    },
    {
      "cell_type": "code",
      "source": [
        "import matplotlib.pyplot as plt\n",
        "import pandas as pd\n",
        "\n",
        "df = pd.read_csv(\"graph_data.csv\", sep=\";\", index_col=0)\n",
        "fig, ax = plt.subplots()\n",
        "\n",
        "for strategy in df.columns:\n",
        "  column = df[strategy]\n",
        "  x = range(len(column))\n",
        "  ax.plot(x, column, label=strategy)\n",
        "\n",
        "ax.set_xlabel(\"timestep\")\n",
        "ax.set_ylabel(\"count\")\n",
        "ax.set_xlim(left=0)\n",
        "ax.legend(loc=\"best\")"
      ],
      "metadata": {
        "colab": {
          "base_uri": "https://localhost:8080/",
          "height": 296
        },
        "id": "X1WSZOQuqiLT",
        "outputId": "991c1d22-0a44-4607-edfa-d973ac822818"
      },
      "execution_count": null,
      "outputs": [
        {
          "output_type": "execute_result",
          "data": {
            "text/plain": [
              "<matplotlib.legend.Legend at 0x7fb041047850>"
            ]
          },
          "metadata": {},
          "execution_count": 42
        },
        {
          "output_type": "display_data",
          "data": {
            "image/png": "[encoded data removed]",
            "text/plain": [
              "<Figure size 432x288 with 1 Axes>"
            ]
          },
          "metadata": {
            "needs_background": "light"
          }
        }
      ]
    },
    {
      "cell_type": "markdown",
      "source": [
        "5. Small world"
      ],
      "metadata": {
        "id": "GIelhF3s8XJf"
      }
    },
    {
      "cell_type": "code",
      "source": [
        "cooperate_strategy = CooperateStrategy()\n",
        "defect_strategy = DefectStrategy()\n",
        "tit_for_tat_strategy = TitForTatStrategy()\n",
        "pavlov_strategy = PavlovStrategy()\n",
        "random_strategy = RandomStrategy()\n",
        "strategies = [cooperate_strategy, defect_strategy, tit_for_tat_strategy, \n",
        "              pavlov_strategy, random_strategy]\n",
        "\n",
        "G = nx.watts_strogatz_graph(n = 100, k = 4, p = 0.5)\n",
        "G = nx.relabel_nodes(G, lambda x: Prisoner(random.choice(strategies)))"
      ],
      "metadata": {
        "id": "r5qyyqYm8Xl_"
      },
      "execution_count": null,
      "outputs": []
    },
    {
      "cell_type": "code",
      "source": [
        "import imageio\n",
        "import os\n",
        "\n",
        "filenames = []\n",
        "world = World(game_rules, G)\n",
        "filenames.append(world.plot_nx(strategies, 0))\n",
        "for i in range(100):\n",
        "  world.play()\n",
        "  filenames.append(world.plot_nx(strategies, i + 1))\n",
        "world.save_node_stats()\n",
        "\n",
        "with imageio.get_writer(f\"gifs/small_world.gif\", mode='I') as writer:\n",
        "  for filename in filenames:\n",
        "    image = imageio.imread(filename)\n",
        "    writer.append_data(image)\n",
        "\"\"\"  for filename in set(filenames):\n",
        "    os.remove(filename)\"\"\""
      ],
      "metadata": {
        "id": "k90WiWZ7-8-5",
        "colab": {
          "base_uri": "https://localhost:8080/",
          "height": 35
        },
        "outputId": "3632eed8-150a-44bb-ab52-0b213fcdba13"
      },
      "execution_count": null,
      "outputs": [
        {
          "output_type": "execute_result",
          "data": {
            "application/vnd.google.colaboratory.intrinsic+json": {
              "type": "string"
            },
            "text/plain": [
              "'  for filename in set(filenames):\\n    os.remove(filename)'"
            ]
          },
          "metadata": {},
          "execution_count": 45
        }
      ]
    },
    {
      "cell_type": "code",
      "source": [
        "import matplotlib.pyplot as plt\n",
        "import pandas as pd\n",
        "\n",
        "df = pd.read_csv(\"graph_data.csv\", sep=\";\", index_col=0)\n",
        "fig, ax = plt.subplots()\n",
        "\n",
        "for strategy in df.columns:\n",
        "  column = df[strategy]\n",
        "  x = range(len(column))\n",
        "  ax.plot(x, column, label=strategy)\n",
        "\n",
        "ax.set_xlabel(\"timestep\")\n",
        "ax.set_ylabel(\"count\")\n",
        "ax.set_xlim(left=0)\n",
        "ax.legend(loc=\"best\")"
      ],
      "metadata": {
        "colab": {
          "base_uri": "https://localhost:8080/",
          "height": 296
        },
        "id": "O4BujmHK--2b",
        "outputId": "20838be0-ed0c-492f-b82d-a6a7b6011e9f"
      },
      "execution_count": null,
      "outputs": [
        {
          "output_type": "execute_result",
          "data": {
            "text/plain": [
              "<matplotlib.legend.Legend at 0x7fb042533e10>"
            ]
          },
          "metadata": {},
          "execution_count": 46
        },
        {
          "output_type": "display_data",
          "data": {
            "image/png": "[encoded data removed]",
            "text/plain": [
              "<Figure size 432x288 with 1 Axes>"
            ]
          },
          "metadata": {
            "needs_background": "light"
          }
        }
      ]
    },
    {
      "cell_type": "markdown",
      "source": [
        "6. Bitcoin Alpha trust weighted signed network\n",
        "\n",
        "https://snap.stanford.edu/data/soc-sign-bitcoin-alpha.html"
      ],
      "metadata": {
        "id": "QdHaHSDiAVIX"
      }
    },
    {
      "cell_type": "code",
      "source": [
        "!wget https://snap.stanford.edu/data/soc-sign-bitcoinalpha.csv.gz"
      ],
      "metadata": {
        "colab": {
          "base_uri": "https://localhost:8080/"
        },
        "id": "wi_u75B4CToP",
        "outputId": "1241b5e0-b3dd-4f15-bbfe-14ea3c67a95d"
      },
      "execution_count": 13,
      "outputs": [
        {
          "output_type": "stream",
          "name": "stdout",
          "text": [
            "--2022-01-07 20:21:24--  https://snap.stanford.edu/data/soc-sign-bitcoinalpha.csv.gz\n",
            "Resolving snap.stanford.edu (snap.stanford.edu)... 171.64.75.80\n",
            "Connecting to snap.stanford.edu (snap.stanford.edu)|171.64.75.80|:443... connected.\n",
            "HTTP request sent, awaiting response... 200 OK\n",
            "Length: 149480 (146K) [application/x-gzip]\n",
            "Saving to: ‘soc-sign-bitcoinalpha.csv.gz’\n",
            "\n",
            "soc-sign-bitcoinalp 100%[===================>] 145.98K  --.-KB/s    in 0.1s    \n",
            "\n",
            "2022-01-07 20:21:24 (1.25 MB/s) - ‘soc-sign-bitcoinalpha.csv.gz’ saved [149480/149480]\n",
            "\n"
          ]
        }
      ]
    },
    {
      "cell_type": "code",
      "source": [
        "!gzip -d soc-sign-bitcoinalpha.csv.gz"
      ],
      "metadata": {
        "id": "RC7eqj70CuVs"
      },
      "execution_count": 14,
      "outputs": []
    },
    {
      "cell_type": "code",
      "source": [
        "import matplotlib.pyplot as plt\n",
        "import pandas as pd"
      ],
      "metadata": {
        "id": "IqqDWQzONgrM"
      },
      "execution_count": 17,
      "outputs": []
    },
    {
      "cell_type": "code",
      "source": [
        "cooperate_strategy = CooperateStrategy()\n",
        "defect_strategy = DefectStrategy()\n",
        "tit_for_tat_strategy = TitForTatStrategy()\n",
        "pavlov_strategy = PavlovStrategy()\n",
        "random_strategy = RandomStrategy()\n",
        "strategies = [cooperate_strategy, defect_strategy, tit_for_tat_strategy, \n",
        "              pavlov_strategy, random_strategy]\n",
        "\n",
        "df = pd.read_csv(\"soc-sign-bitcoinalpha.csv\", names=[\"source\", \"target\", \"rating\", \"time\"])\n",
        "G = nx.from_pandas_edgelist(df, \"source\", \"target\")\n",
        "G = nx.relabel_nodes(G, lambda x: Prisoner(random.choice(strategies)))\n",
        "G = G.to_undirected()"
      ],
      "metadata": {
        "id": "jj7M7xBqCXdj"
      },
      "execution_count": 35,
      "outputs": []
    },
    {
      "cell_type": "code",
      "source": [
        "components = [comp for comp in sorted(nx.connected_components(G), key=len, reverse=True)]\n",
        "biggest_component = components[0]"
      ],
      "metadata": {
        "id": "AW1_I5uGHWxR"
      },
      "execution_count": 36,
      "outputs": []
    },
    {
      "cell_type": "code",
      "source": [
        "G = G.subgraph(biggest_component).copy()"
      ],
      "metadata": {
        "id": "Wy7Uv0PGIBJ9"
      },
      "execution_count": 37,
      "outputs": []
    },
    {
      "cell_type": "code",
      "source": [
        "import imageio\n",
        "import os\n",
        "\n",
        "filenames = []\n",
        "world = World(game_rules, G)\n",
        "filenames.append(world.plot_nx(strategies, 0))\n",
        "for i in range(200):\n",
        "  world.play()\n",
        "  filenames.append(world.plot_nx(strategies, i + 1))\n",
        "world.save_node_stats()\n",
        "\n",
        "with imageio.get_writer(f\"gifs/bitcoin_alpha.gif\", mode='I') as writer:\n",
        "  for filename in filenames:\n",
        "    image = imageio.imread(filename)\n",
        "    writer.append_data(image)\n",
        "\"\"\"  for filename in set(filenames):\n",
        "    os.remove(filename)\"\"\""
      ],
      "metadata": {
        "id": "WdfEGFQ0ECgR",
        "colab": {
          "base_uri": "https://localhost:8080/",
          "height": 37
        },
        "outputId": "cad02da2-45aa-4b41-e4bf-4de703456698"
      },
      "execution_count": 38,
      "outputs": [
        {
          "output_type": "execute_result",
          "data": {
            "application/vnd.google.colaboratory.intrinsic+json": {
              "type": "string"
            },
            "text/plain": [
              "'  for filename in set(filenames):\\n    os.remove(filename)'"
            ]
          },
          "metadata": {},
          "execution_count": 38
        }
      ]
    },
    {
      "cell_type": "code",
      "source": [
        "import matplotlib.pyplot as plt\n",
        "import pandas as pd\n",
        "\n",
        "df = pd.read_csv(\"graph_data.csv\", sep=\";\", index_col=0)\n",
        "fig, ax = plt.subplots()\n",
        "\n",
        "for strategy in df.columns:\n",
        "  column = df[strategy]\n",
        "  x = range(len(column))\n",
        "  ax.plot(x, column, label=strategy)\n",
        "\n",
        "ax.set_xlabel(\"timestep\")\n",
        "ax.set_ylabel(\"count\")\n",
        "ax.set_xlim(left=0)\n",
        "ax.legend(loc=\"best\")"
      ],
      "metadata": {
        "colab": {
          "base_uri": "https://localhost:8080/",
          "height": 296
        },
        "id": "Hw__jtrTEHOt",
        "outputId": "2a635dcf-c9d6-485d-e100-d465701f0b6c"
      },
      "execution_count": 39,
      "outputs": [
        {
          "output_type": "execute_result",
          "data": {
            "text/plain": [
              "<matplotlib.legend.Legend at 0x7f38dd43bf50>"
            ]
          },
          "metadata": {},
          "execution_count": 39
        },
        {
          "output_type": "display_data",
          "data": {
            "image/png": "[encoded data removed]",
            "text/plain": [
              "<Figure size 432x288 with 1 Axes>"
            ]
          },
          "metadata": {
            "needs_background": "light"
          }
        }
      ]
    },
    {
      "cell_type": "code",
      "source": [
        ""
      ],
      "metadata": {
        "id": "elxMOhm5G13i"
      },
      "execution_count": null,
      "outputs": []
    }
  ],
  "metadata": {
    "colab": {
      "collapsed_sections": [],
      "name": "IterativePrisonProblemCellularAutomata.ipynb",
      "provenance": []
    },
    "kernelspec": {
      "display_name": "Python 3",
      "name": "python3"
    },
    "language_info": {
      "name": "python"
    }
  },
  "nbformat": 4,
  "nbformat_minor": 0
}